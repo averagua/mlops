{
 "cells": [
  {
   "cell_type": "markdown",
   "metadata": {},
   "source": [
    "## Install the Kubeflow-metadata library¶"
   ]
  },
  {
   "cell_type": "code",
   "execution_count": 4,
   "metadata": {
    "scrolled": true
   },
   "outputs": [
    {
     "name": "stdout",
     "output_type": "stream",
     "text": [
      "WARNING: pip is being invoked by an old script wrapper. This will fail in a future version of pip.\n",
      "Please see https://github.com/pypa/pip/issues/5599 for advice on fixing the underlying issue.\n",
      "To avoid this problem you can invoke Python with '-m pip' instead of running pip directly.\n",
      "Requirement already satisfied: kubeflow-metadata in ./.local/lib/python3.6/site-packages (0.3.1)\n",
      "Requirement already satisfied: ml-metadata==0.21.1 in ./.local/lib/python3.6/site-packages (from kubeflow-metadata) (0.21.1)\n",
      "Requirement already satisfied: retrying in ./.local/lib/python3.6/site-packages (from kubeflow-metadata) (1.3.3)\n",
      "Requirement already satisfied: tensorflow!=2.0.*,<3,>=1.15 in ./.local/lib/python3.6/site-packages (from ml-metadata==0.21.1->kubeflow-metadata) (2.2.0)\n",
      "Requirement already satisfied: protobuf<4,>=3.7 in ./.local/lib/python3.6/site-packages (from ml-metadata==0.21.1->kubeflow-metadata) (3.12.2)\n",
      "Requirement already satisfied: absl-py<1,>=0.7 in /usr/local/lib/python3.6/dist-packages (from ml-metadata==0.21.1->kubeflow-metadata) (0.7.1)\n",
      "Requirement already satisfied: six<2,>=1.10 in /usr/lib/python3/dist-packages (from ml-metadata==0.21.1->kubeflow-metadata) (1.11.0)\n",
      "Requirement already satisfied: google-pasta>=0.1.8 in ./.local/lib/python3.6/site-packages (from tensorflow!=2.0.*,<3,>=1.15->ml-metadata==0.21.1->kubeflow-metadata) (0.2.0)\n",
      "Requirement already satisfied: gast==0.3.3 in ./.local/lib/python3.6/site-packages (from tensorflow!=2.0.*,<3,>=1.15->ml-metadata==0.21.1->kubeflow-metadata) (0.3.3)\n",
      "Requirement already satisfied: wheel>=0.26; python_version >= \"3\" in /usr/lib/python3/dist-packages (from tensorflow!=2.0.*,<3,>=1.15->ml-metadata==0.21.1->kubeflow-metadata) (0.30.0)\n",
      "Requirement already satisfied: opt-einsum>=2.3.2 in ./.local/lib/python3.6/site-packages (from tensorflow!=2.0.*,<3,>=1.15->ml-metadata==0.21.1->kubeflow-metadata) (3.2.1)\n",
      "Requirement already satisfied: grpcio>=1.8.6 in ./.local/lib/python3.6/site-packages (from tensorflow!=2.0.*,<3,>=1.15->ml-metadata==0.21.1->kubeflow-metadata) (1.30.0)\n",
      "Requirement already satisfied: scipy==1.4.1; python_version >= \"3\" in ./.local/lib/python3.6/site-packages (from tensorflow!=2.0.*,<3,>=1.15->ml-metadata==0.21.1->kubeflow-metadata) (1.4.1)\n",
      "Requirement already satisfied: h5py<2.11.0,>=2.10.0 in ./.local/lib/python3.6/site-packages (from tensorflow!=2.0.*,<3,>=1.15->ml-metadata==0.21.1->kubeflow-metadata) (2.10.0)\n",
      "Requirement already satisfied: numpy<2.0,>=1.16.0 in ./.local/lib/python3.6/site-packages (from tensorflow!=2.0.*,<3,>=1.15->ml-metadata==0.21.1->kubeflow-metadata) (1.19.0)\n",
      "Requirement already satisfied: tensorflow-estimator<2.3.0,>=2.2.0 in ./.local/lib/python3.6/site-packages (from tensorflow!=2.0.*,<3,>=1.15->ml-metadata==0.21.1->kubeflow-metadata) (2.2.0)\n",
      "Requirement already satisfied: tensorboard<2.3.0,>=2.2.0 in ./.local/lib/python3.6/site-packages (from tensorflow!=2.0.*,<3,>=1.15->ml-metadata==0.21.1->kubeflow-metadata) (2.2.2)\n",
      "Requirement already satisfied: termcolor>=1.1.0 in /usr/local/lib/python3.6/dist-packages (from tensorflow!=2.0.*,<3,>=1.15->ml-metadata==0.21.1->kubeflow-metadata) (1.1.0)\n",
      "Requirement already satisfied: keras-preprocessing>=1.1.0 in /usr/local/lib/python3.6/dist-packages (from tensorflow!=2.0.*,<3,>=1.15->ml-metadata==0.21.1->kubeflow-metadata) (1.1.0)\n",
      "Requirement already satisfied: astunparse==1.6.3 in ./.local/lib/python3.6/site-packages (from tensorflow!=2.0.*,<3,>=1.15->ml-metadata==0.21.1->kubeflow-metadata) (1.6.3)\n",
      "Requirement already satisfied: wrapt>=1.11.1 in /usr/local/lib/python3.6/dist-packages (from tensorflow!=2.0.*,<3,>=1.15->ml-metadata==0.21.1->kubeflow-metadata) (1.11.2)\n",
      "Requirement already satisfied: setuptools in /usr/local/lib/python3.6/dist-packages (from protobuf<4,>=3.7->ml-metadata==0.21.1->kubeflow-metadata) (41.0.1)\n",
      "Requirement already satisfied: tensorboard-plugin-wit>=1.6.0 in ./.local/lib/python3.6/site-packages (from tensorboard<2.3.0,>=2.2.0->tensorflow!=2.0.*,<3,>=1.15->ml-metadata==0.21.1->kubeflow-metadata) (1.7.0)\n",
      "Requirement already satisfied: google-auth<2,>=1.6.3 in /usr/local/lib/python3.6/dist-packages (from tensorboard<2.3.0,>=2.2.0->tensorflow!=2.0.*,<3,>=1.15->ml-metadata==0.21.1->kubeflow-metadata) (1.6.3)\n",
      "Requirement already satisfied: werkzeug>=0.11.15 in /usr/local/lib/python3.6/dist-packages (from tensorboard<2.3.0,>=2.2.0->tensorflow!=2.0.*,<3,>=1.15->ml-metadata==0.21.1->kubeflow-metadata) (0.15.4)\n",
      "Requirement already satisfied: markdown>=2.6.8 in /usr/local/lib/python3.6/dist-packages (from tensorboard<2.3.0,>=2.2.0->tensorflow!=2.0.*,<3,>=1.15->ml-metadata==0.21.1->kubeflow-metadata) (3.1.1)\n",
      "Requirement already satisfied: requests<3,>=2.21.0 in /usr/local/lib/python3.6/dist-packages (from tensorboard<2.3.0,>=2.2.0->tensorflow!=2.0.*,<3,>=1.15->ml-metadata==0.21.1->kubeflow-metadata) (2.22.0)\n",
      "Requirement already satisfied: google-auth-oauthlib<0.5,>=0.4.1 in ./.local/lib/python3.6/site-packages (from tensorboard<2.3.0,>=2.2.0->tensorflow!=2.0.*,<3,>=1.15->ml-metadata==0.21.1->kubeflow-metadata) (0.4.1)\n",
      "Requirement already satisfied: pyasn1-modules>=0.2.1 in /usr/local/lib/python3.6/dist-packages (from google-auth<2,>=1.6.3->tensorboard<2.3.0,>=2.2.0->tensorflow!=2.0.*,<3,>=1.15->ml-metadata==0.21.1->kubeflow-metadata) (0.2.6)\n",
      "Requirement already satisfied: rsa>=3.1.4 in /usr/local/lib/python3.6/dist-packages (from google-auth<2,>=1.6.3->tensorboard<2.3.0,>=2.2.0->tensorflow!=2.0.*,<3,>=1.15->ml-metadata==0.21.1->kubeflow-metadata) (4.0)\n",
      "Requirement already satisfied: cachetools>=2.0.0 in /usr/local/lib/python3.6/dist-packages (from google-auth<2,>=1.6.3->tensorboard<2.3.0,>=2.2.0->tensorflow!=2.0.*,<3,>=1.15->ml-metadata==0.21.1->kubeflow-metadata) (3.1.1)\n",
      "Requirement already satisfied: urllib3!=1.25.0,!=1.25.1,<1.26,>=1.21.1 in ./.local/lib/python3.6/site-packages (from requests<3,>=2.21.0->tensorboard<2.3.0,>=2.2.0->tensorflow!=2.0.*,<3,>=1.15->ml-metadata==0.21.1->kubeflow-metadata) (1.24.2)\n",
      "Requirement already satisfied: certifi>=2017.4.17 in /usr/local/lib/python3.6/dist-packages (from requests<3,>=2.21.0->tensorboard<2.3.0,>=2.2.0->tensorflow!=2.0.*,<3,>=1.15->ml-metadata==0.21.1->kubeflow-metadata) (2019.9.11)\n",
      "Requirement already satisfied: chardet<3.1.0,>=3.0.2 in /usr/local/lib/python3.6/dist-packages (from requests<3,>=2.21.0->tensorboard<2.3.0,>=2.2.0->tensorflow!=2.0.*,<3,>=1.15->ml-metadata==0.21.1->kubeflow-metadata) (3.0.4)\n",
      "Requirement already satisfied: idna<2.9,>=2.5 in /usr/lib/python3/dist-packages (from requests<3,>=2.21.0->tensorboard<2.3.0,>=2.2.0->tensorflow!=2.0.*,<3,>=1.15->ml-metadata==0.21.1->kubeflow-metadata) (2.6)\n",
      "Requirement already satisfied: requests-oauthlib>=0.7.0 in /usr/local/lib/python3.6/dist-packages (from google-auth-oauthlib<0.5,>=0.4.1->tensorboard<2.3.0,>=2.2.0->tensorflow!=2.0.*,<3,>=1.15->ml-metadata==0.21.1->kubeflow-metadata) (1.2.0)\n",
      "Requirement already satisfied: pyasn1<0.5.0,>=0.4.6 in /usr/local/lib/python3.6/dist-packages (from pyasn1-modules>=0.2.1->google-auth<2,>=1.6.3->tensorboard<2.3.0,>=2.2.0->tensorflow!=2.0.*,<3,>=1.15->ml-metadata==0.21.1->kubeflow-metadata) (0.4.7)\n",
      "Requirement already satisfied: oauthlib>=3.0.0 in /usr/local/lib/python3.6/dist-packages (from requests-oauthlib>=0.7.0->google-auth-oauthlib<0.5,>=0.4.1->tensorboard<2.3.0,>=2.2.0->tensorflow!=2.0.*,<3,>=1.15->ml-metadata==0.21.1->kubeflow-metadata) (3.1.0)\n",
      "WARNING: pip is being invoked by an old script wrapper. This will fail in a future version of pip.\n",
      "Please see https://github.com/pypa/pip/issues/5599 for advice on fixing the underlying issue.\n",
      "To avoid this problem you can invoke Python with '-m pip' instead of running pip directly.\n",
      "Requirement already satisfied: pandas in ./.local/lib/python3.6/site-packages (1.0.5)\n",
      "Requirement already satisfied: python-dateutil>=2.6.1 in /usr/local/lib/python3.6/dist-packages (from pandas) (2.8.0)\n",
      "Requirement already satisfied: numpy>=1.13.3 in ./.local/lib/python3.6/site-packages (from pandas) (1.19.0)\n",
      "Requirement already satisfied: pytz>=2017.2 in /usr/local/lib/python3.6/dist-packages (from pandas) (2019.2)\n",
      "Requirement already satisfied: six>=1.5 in /usr/lib/python3/dist-packages (from python-dateutil>=2.6.1->pandas) (1.11.0)\n"
     ]
    },
    {
     "name": "stdout",
     "output_type": "stream",
     "text": [
      "WARNING: pip is being invoked by an old script wrapper. This will fail in a future version of pip.\n",
      "Please see https://github.com/pypa/pip/issues/5599 for advice on fixing the underlying issue.\n",
      "To avoid this problem you can invoke Python with '-m pip' instead of running pip directly.\n",
      "WARNING: pip is being invoked by an old script wrapper. This will fail in a future version of pip.\n",
      "Please see https://github.com/pypa/pip/issues/5599 for advice on fixing the underlying issue.\n",
      "To avoid this problem you can invoke Python with '-m pip' instead of running pip directly.\n",
      "Requirement already satisfied: kubeflow-fairing in ./.local/lib/python3.6/site-packages (1.0.1)\n",
      "Requirement already satisfied: google-auth>=1.6.2 in /usr/local/lib/python3.6/dist-packages (from kubeflow-fairing) (1.6.3)\n",
      "Requirement already satisfied: kubeflow-pytorchjob>=0.1.1 in ./.local/lib/python3.6/site-packages (from kubeflow-fairing) (0.1.3)\n",
      "Requirement already satisfied: ibm-cos-sdk>=2.6.0 in ./.local/lib/python3.6/site-packages (from kubeflow-fairing) (2.6.3)\n",
      "Requirement already satisfied: oauth2client>=4.0.0 in /usr/local/lib/python3.6/dist-packages (from kubeflow-fairing) (4.1.3)\n",
      "Requirement already satisfied: azure-storage-file>=2.1.0 in ./.local/lib/python3.6/site-packages (from kubeflow-fairing) (2.1.0)\n",
      "Requirement already satisfied: numpy>=1.17.3 in ./.local/lib/python3.6/site-packages (from kubeflow-fairing) (1.19.0)\n",
      "Requirement already satisfied: kubeflow-tfjob>=0.1.1 in ./.local/lib/python3.6/site-packages (from kubeflow-fairing) (0.1.3)\n",
      "Requirement already satisfied: nbconvert>=5.6.1 in ./.local/lib/python3.6/site-packages (from kubeflow-fairing) (5.6.1)\n",
      "Requirement already satisfied: retrying>=1.3.3 in ./.local/lib/python3.6/site-packages (from kubeflow-fairing) (1.3.3)\n",
      "Requirement already satisfied: google-cloud-logging>=1.13.0 in ./.local/lib/python3.6/site-packages (from kubeflow-fairing) (1.15.0)\n",
      "Requirement already satisfied: python-dateutil<=2.8.0,>=2.1 in /usr/local/lib/python3.6/dist-packages (from kubeflow-fairing) (2.8.0)\n",
      "Requirement already satisfied: urllib3==1.24.2 in ./.local/lib/python3.6/site-packages (from kubeflow-fairing) (1.24.2)\n",
      "Requirement already satisfied: azure-mgmt-storage>=9.0.0 in ./.local/lib/python3.6/site-packages (from kubeflow-fairing) (11.1.0)\n",
      "Requirement already satisfied: tornado>=6.0.1 in ./.local/lib/python3.6/site-packages (from kubeflow-fairing) (6.0.4)\n",
      "Requirement already satisfied: google-cloud-storage>=1.13.2 in /usr/local/lib/python3.6/dist-packages (from kubeflow-fairing) (1.20.0)\n",
      "Requirement already satisfied: six>=1.11.0 in /usr/lib/python3/dist-packages (from kubeflow-fairing) (1.11.0)\n",
      "Requirement already satisfied: kfserving>=0.3.0.2 in ./.local/lib/python3.6/site-packages (from kubeflow-fairing) (0.3.0.2)\n",
      "Requirement already satisfied: kubernetes==10.0.1 in /usr/local/lib/python3.6/dist-packages (from kubeflow-fairing) (10.0.1)\n",
      "Requirement already satisfied: docker>=3.4.1 in /usr/local/lib/python3.6/dist-packages (from kubeflow-fairing) (4.0.2)\n",
      "Requirement already satisfied: setuptools>=34.0.0 in /usr/local/lib/python3.6/dist-packages (from kubeflow-fairing) (41.0.1)\n",
      "Requirement already satisfied: notebook>=5.6.0 in /usr/local/lib/python3.6/dist-packages (from kubeflow-fairing) (5.7.8)\n",
      "Requirement already satisfied: cloudpickle<=1.4.1,>=0.8 in /usr/local/lib/python3.6/dist-packages (from kubeflow-fairing) (1.2.2)\n",
      "Requirement already satisfied: requests<2.23,>=2.21.0 in /usr/local/lib/python3.6/dist-packages (from kubeflow-fairing) (2.22.0)\n",
      "Requirement already satisfied: google-api-python-client>=1.7.8 in /usr/local/lib/python3.6/dist-packages (from kubeflow-fairing) (1.7.11)\n",
      "Requirement already satisfied: httplib2>=0.12.0 in /usr/local/lib/python3.6/dist-packages (from kubeflow-fairing) (0.14.0)\n",
      "Requirement already satisfied: boto3>=1.9.0 in ./.local/lib/python3.6/site-packages (from kubeflow-fairing) (1.14.23)\n",
      "Requirement already satisfied: future>=0.17.1 in /usr/local/lib/python3.6/dist-packages (from kubeflow-fairing) (0.17.1)\n",
      "Requirement already satisfied: grpcio>=1.27.2 in ./.local/lib/python3.6/site-packages (from kubeflow-fairing) (1.30.0)\n",
      "Requirement already satisfied: rsa>=3.1.4 in /usr/local/lib/python3.6/dist-packages (from google-auth>=1.6.2->kubeflow-fairing) (4.0)\n",
      "Requirement already satisfied: pyasn1-modules>=0.2.1 in /usr/local/lib/python3.6/dist-packages (from google-auth>=1.6.2->kubeflow-fairing) (0.2.6)\n",
      "Requirement already satisfied: cachetools>=2.0.0 in /usr/local/lib/python3.6/dist-packages (from google-auth>=1.6.2->kubeflow-fairing) (3.1.1)\n",
      "Requirement already satisfied: certifi>=14.05.14 in /usr/local/lib/python3.6/dist-packages (from kubeflow-pytorchjob>=0.1.1->kubeflow-fairing) (2019.9.11)\n",
      "Requirement already satisfied: table-logger>=0.3.5 in ./.local/lib/python3.6/site-packages (from kubeflow-pytorchjob>=0.1.1->kubeflow-fairing) (0.3.6)\n",
      "Requirement already satisfied: jmespath<1.0.0,>=0.7.1 in ./.local/lib/python3.6/site-packages (from ibm-cos-sdk>=2.6.0->kubeflow-fairing) (0.10.0)\n",
      "Requirement already satisfied: ibm-cos-sdk-s3transfer==2.6.3 in ./.local/lib/python3.6/site-packages (from ibm-cos-sdk>=2.6.0->kubeflow-fairing) (2.6.3)\n",
      "Requirement already satisfied: ibm-cos-sdk-core==2.6.3 in ./.local/lib/python3.6/site-packages (from ibm-cos-sdk>=2.6.0->kubeflow-fairing) (2.6.3)\n",
      "Requirement already satisfied: pyasn1>=0.1.7 in /usr/local/lib/python3.6/dist-packages (from oauth2client>=4.0.0->kubeflow-fairing) (0.4.7)\n",
      "Requirement already satisfied: azure-storage-common~=2.1 in ./.local/lib/python3.6/site-packages (from azure-storage-file>=2.1.0->kubeflow-fairing) (2.1.0)\n",
      "Requirement already satisfied: azure-common>=1.1.5 in ./.local/lib/python3.6/site-packages (from azure-storage-file>=2.1.0->kubeflow-fairing) (1.1.25)\n",
      "Requirement already satisfied: entrypoints>=0.2.2 in /usr/local/lib/python3.6/dist-packages (from nbconvert>=5.6.1->kubeflow-fairing) (0.3)\n",
      "Requirement already satisfied: pygments in /usr/local/lib/python3.6/dist-packages (from nbconvert>=5.6.1->kubeflow-fairing) (2.4.2)\n",
      "Requirement already satisfied: jinja2>=2.4 in /usr/local/lib/python3.6/dist-packages (from nbconvert>=5.6.1->kubeflow-fairing) (2.10.1)\n",
      "Requirement already satisfied: traitlets>=4.2 in /usr/local/lib/python3.6/dist-packages (from nbconvert>=5.6.1->kubeflow-fairing) (4.3.2)\n",
      "Requirement already satisfied: bleach in /usr/local/lib/python3.6/dist-packages (from nbconvert>=5.6.1->kubeflow-fairing) (3.1.0)\n",
      "Requirement already satisfied: mistune<2,>=0.8.1 in /usr/local/lib/python3.6/dist-packages (from nbconvert>=5.6.1->kubeflow-fairing) (0.8.4)\n",
      "Requirement already satisfied: nbformat>=4.4 in /usr/local/lib/python3.6/dist-packages (from nbconvert>=5.6.1->kubeflow-fairing) (4.4.0)\n",
      "Requirement already satisfied: jupyter-core in /usr/local/lib/python3.6/dist-packages (from nbconvert>=5.6.1->kubeflow-fairing) (4.5.0)\n",
      "Requirement already satisfied: pandocfilters>=1.4.1 in /usr/local/lib/python3.6/dist-packages (from nbconvert>=5.6.1->kubeflow-fairing) (1.4.2)\n",
      "Requirement already satisfied: testpath in /usr/local/lib/python3.6/dist-packages (from nbconvert>=5.6.1->kubeflow-fairing) (0.4.2)\n",
      "Requirement already satisfied: defusedxml in /usr/local/lib/python3.6/dist-packages (from nbconvert>=5.6.1->kubeflow-fairing) (0.6.0)\n",
      "Requirement already satisfied: google-api-core[grpc]<2.0.0dev,>=1.15.0 in ./.local/lib/python3.6/site-packages (from google-cloud-logging>=1.13.0->kubeflow-fairing) (1.21.0)\n",
      "Requirement already satisfied: google-cloud-core<2.0dev,>=1.1.0 in ./.local/lib/python3.6/site-packages (from google-cloud-logging>=1.13.0->kubeflow-fairing) (1.3.0)\n",
      "Requirement already satisfied: msrestazure<2.0.0,>=0.4.32 in ./.local/lib/python3.6/site-packages (from azure-mgmt-storage>=9.0.0->kubeflow-fairing) (0.6.4)\n",
      "Requirement already satisfied: msrest>=0.5.0 in ./.local/lib/python3.6/site-packages (from azure-mgmt-storage>=9.0.0->kubeflow-fairing) (0.6.17)\n",
      "Requirement already satisfied: google-resumable-media!=0.4.0,<0.5dev,>=0.3.1 in /usr/local/lib/python3.6/dist-packages (from google-cloud-storage>=1.13.2->kubeflow-fairing) (0.4.1)\n",
      "Requirement already satisfied: argparse>=1.4.0 in ./.local/lib/python3.6/site-packages (from kfserving>=0.3.0.2->kubeflow-fairing) (1.4.0)\n",
      "Requirement already satisfied: adal>=1.2.2 in ./.local/lib/python3.6/site-packages (from kfserving>=0.3.0.2->kubeflow-fairing) (1.2.4)\n",
      "Requirement already satisfied: minio>=4.0.9 in ./.local/lib/python3.6/site-packages (from kfserving>=0.3.0.2->kubeflow-fairing) (5.0.10)\n",
      "Requirement already satisfied: azure-storage-blob<=2.1.0,>=1.3.0 in ./.local/lib/python3.6/site-packages (from kfserving>=0.3.0.2->kubeflow-fairing) (2.1.0)\n",
      "Requirement already satisfied: websocket-client!=0.40.0,!=0.41.*,!=0.42.*,>=0.32.0 in /usr/local/lib/python3.6/dist-packages (from kubernetes==10.0.1->kubeflow-fairing) (0.56.0)\n",
      "Requirement already satisfied: pyyaml>=3.12 in /usr/local/lib/python3.6/dist-packages (from kubernetes==10.0.1->kubeflow-fairing) (5.1.2)\n",
      "Requirement already satisfied: requests-oauthlib in /usr/local/lib/python3.6/dist-packages (from kubernetes==10.0.1->kubeflow-fairing) (1.2.0)\n",
      "Requirement already satisfied: ipython-genutils in /usr/local/lib/python3.6/dist-packages (from notebook>=5.6.0->kubeflow-fairing) (0.2.0)\n",
      "Requirement already satisfied: pyzmq>=17 in /usr/local/lib/python3.6/dist-packages (from notebook>=5.6.0->kubeflow-fairing) (18.0.1)\n",
      "Requirement already satisfied: Send2Trash in /usr/local/lib/python3.6/dist-packages (from notebook>=5.6.0->kubeflow-fairing) (1.5.0)\n",
      "Requirement already satisfied: ipykernel in /usr/local/lib/python3.6/dist-packages (from notebook>=5.6.0->kubeflow-fairing) (5.1.1)\n",
      "Requirement already satisfied: terminado>=0.8.1 in /usr/local/lib/python3.6/dist-packages (from notebook>=5.6.0->kubeflow-fairing) (0.8.2)\n"
     ]
    },
    {
     "name": "stdout",
     "output_type": "stream",
     "text": [
      "Requirement already satisfied: prometheus-client in /usr/local/lib/python3.6/dist-packages (from notebook>=5.6.0->kubeflow-fairing) (0.7.1)\n",
      "Requirement already satisfied: jupyter-client>=5.2.0 in /usr/local/lib/python3.6/dist-packages (from notebook>=5.6.0->kubeflow-fairing) (5.2.4)\n",
      "Requirement already satisfied: chardet<3.1.0,>=3.0.2 in /usr/local/lib/python3.6/dist-packages (from requests<2.23,>=2.21.0->kubeflow-fairing) (3.0.4)\n",
      "Requirement already satisfied: idna<2.9,>=2.5 in /usr/lib/python3/dist-packages (from requests<2.23,>=2.21.0->kubeflow-fairing) (2.6)\n",
      "Requirement already satisfied: uritemplate<4dev,>=3.0.0 in /usr/local/lib/python3.6/dist-packages (from google-api-python-client>=1.7.8->kubeflow-fairing) (3.0.0)\n",
      "Requirement already satisfied: google-auth-httplib2>=0.0.3 in /usr/local/lib/python3.6/dist-packages (from google-api-python-client>=1.7.8->kubeflow-fairing) (0.0.3)\n",
      "Requirement already satisfied: botocore<1.18.0,>=1.17.23 in ./.local/lib/python3.6/site-packages (from boto3>=1.9.0->kubeflow-fairing) (1.17.23)\n",
      "Requirement already satisfied: s3transfer<0.4.0,>=0.3.0 in ./.local/lib/python3.6/site-packages (from boto3>=1.9.0->kubeflow-fairing) (0.3.3)\n",
      "Requirement already satisfied: docutils>=0.10 in ./.local/lib/python3.6/site-packages (from ibm-cos-sdk-core==2.6.3->ibm-cos-sdk>=2.6.0->kubeflow-fairing) (0.15.2)\n",
      "Requirement already satisfied: cryptography in /usr/local/lib/python3.6/dist-packages (from azure-storage-common~=2.1->azure-storage-file>=2.1.0->kubeflow-fairing) (2.7)\n",
      "Requirement already satisfied: MarkupSafe>=0.23 in /usr/local/lib/python3.6/dist-packages (from jinja2>=2.4->nbconvert>=5.6.1->kubeflow-fairing) (1.1.1)\n",
      "Requirement already satisfied: decorator in /usr/local/lib/python3.6/dist-packages (from traitlets>=4.2->nbconvert>=5.6.1->kubeflow-fairing) (4.4.0)\n",
      "Requirement already satisfied: webencodings in /usr/local/lib/python3.6/dist-packages (from bleach->nbconvert>=5.6.1->kubeflow-fairing) (0.5.1)\n",
      "Requirement already satisfied: jsonschema!=2.5.0,>=2.4 in /usr/local/lib/python3.6/dist-packages (from nbformat>=4.4->nbconvert>=5.6.1->kubeflow-fairing) (3.0.1)\n",
      "Requirement already satisfied: protobuf>=3.12.0 in ./.local/lib/python3.6/site-packages (from google-api-core[grpc]<2.0.0dev,>=1.15.0->google-cloud-logging>=1.13.0->kubeflow-fairing) (3.12.2)\n",
      "Requirement already satisfied: pytz in /usr/local/lib/python3.6/dist-packages (from google-api-core[grpc]<2.0.0dev,>=1.15.0->google-cloud-logging>=1.13.0->kubeflow-fairing) (2019.2)\n",
      "Requirement already satisfied: googleapis-common-protos<2.0dev,>=1.6.0 in /usr/local/lib/python3.6/dist-packages (from google-api-core[grpc]<2.0.0dev,>=1.15.0->google-cloud-logging>=1.13.0->kubeflow-fairing) (1.6.0)\n",
      "Requirement already satisfied: isodate>=0.6.0 in ./.local/lib/python3.6/site-packages (from msrest>=0.5.0->azure-mgmt-storage>=9.0.0->kubeflow-fairing) (0.6.0)\n",
      "Requirement already satisfied: PyJWT>=1.0.0 in /usr/local/lib/python3.6/dist-packages (from adal>=1.2.2->kfserving>=0.3.0.2->kubeflow-fairing) (1.7.1)\n",
      "Requirement already satisfied: configparser in ./.local/lib/python3.6/site-packages (from minio>=4.0.9->kfserving>=0.3.0.2->kubeflow-fairing) (5.0.0)\n",
      "Requirement already satisfied: oauthlib>=3.0.0 in /usr/local/lib/python3.6/dist-packages (from requests-oauthlib->kubernetes==10.0.1->kubeflow-fairing) (3.1.0)\n",
      "Requirement already satisfied: ipython>=5.0.0 in /usr/local/lib/python3.6/dist-packages (from ipykernel->notebook>=5.6.0->kubeflow-fairing) (7.5.0)\n",
      "Requirement already satisfied: ptyprocess; os_name != \"nt\" in /usr/local/lib/python3.6/dist-packages (from terminado>=0.8.1->notebook>=5.6.0->kubeflow-fairing) (0.6.0)\n",
      "Requirement already satisfied: cffi!=1.11.3,>=1.8 in /usr/local/lib/python3.6/dist-packages (from cryptography->azure-storage-common~=2.1->azure-storage-file>=2.1.0->kubeflow-fairing) (1.12.3)\n",
      "Requirement already satisfied: asn1crypto>=0.21.0 in /usr/lib/python3/dist-packages (from cryptography->azure-storage-common~=2.1->azure-storage-file>=2.1.0->kubeflow-fairing) (0.24.0)\n",
      "Requirement already satisfied: attrs>=17.4.0 in /usr/local/lib/python3.6/dist-packages (from jsonschema!=2.5.0,>=2.4->nbformat>=4.4->nbconvert>=5.6.1->kubeflow-fairing) (19.1.0)\n",
      "Requirement already satisfied: pyrsistent>=0.14.0 in /usr/local/lib/python3.6/dist-packages (from jsonschema!=2.5.0,>=2.4->nbformat>=4.4->nbconvert>=5.6.1->kubeflow-fairing) (0.15.2)\n",
      "Requirement already satisfied: pickleshare in /usr/local/lib/python3.6/dist-packages (from ipython>=5.0.0->ipykernel->notebook>=5.6.0->kubeflow-fairing) (0.7.5)\n",
      "Requirement already satisfied: pexpect; sys_platform != \"win32\" in /usr/local/lib/python3.6/dist-packages (from ipython>=5.0.0->ipykernel->notebook>=5.6.0->kubeflow-fairing) (4.7.0)\n",
      "Requirement already satisfied: prompt-toolkit<2.1.0,>=2.0.0 in /usr/local/lib/python3.6/dist-packages (from ipython>=5.0.0->ipykernel->notebook>=5.6.0->kubeflow-fairing) (2.0.9)\n",
      "Requirement already satisfied: jedi>=0.10 in /usr/local/lib/python3.6/dist-packages (from ipython>=5.0.0->ipykernel->notebook>=5.6.0->kubeflow-fairing) (0.13.3)\n",
      "Requirement already satisfied: backcall in /usr/local/lib/python3.6/dist-packages (from ipython>=5.0.0->ipykernel->notebook>=5.6.0->kubeflow-fairing) (0.1.0)\n",
      "Requirement already satisfied: pycparser in /usr/local/lib/python3.6/dist-packages (from cffi!=1.11.3,>=1.8->cryptography->azure-storage-common~=2.1->azure-storage-file>=2.1.0->kubeflow-fairing) (2.19)\n",
      "Requirement already satisfied: wcwidth in /usr/local/lib/python3.6/dist-packages (from prompt-toolkit<2.1.0,>=2.0.0->ipython>=5.0.0->ipykernel->notebook>=5.6.0->kubeflow-fairing) (0.1.7)\n",
      "Requirement already satisfied: parso>=0.3.0 in /usr/local/lib/python3.6/dist-packages (from jedi>=0.10->ipython>=5.0.0->ipykernel->notebook>=5.6.0->kubeflow-fairing) (0.4.0)\n",
      "WARNING: pip is being invoked by an old script wrapper. This will fail in a future version of pip.\n",
      "Please see https://github.com/pypa/pip/issues/5599 for advice on fixing the underlying issue.\n",
      "To avoid this problem you can invoke Python with '-m pip' instead of running pip directly.\n",
      "Requirement already satisfied: scikit-learn in ./.local/lib/python3.6/site-packages (0.23.1)\n",
      "Requirement already satisfied: numpy>=1.13.3 in ./.local/lib/python3.6/site-packages (from scikit-learn) (1.19.0)\n",
      "Requirement already satisfied: joblib>=0.11 in ./.local/lib/python3.6/site-packages (from scikit-learn) (0.16.0)\n",
      "Requirement already satisfied: scipy>=0.19.1 in ./.local/lib/python3.6/site-packages (from scikit-learn) (1.4.1)\n",
      "Requirement already satisfied: threadpoolctl>=2.0.0 in ./.local/lib/python3.6/site-packages (from scikit-learn) (2.1.0)\n",
      "WARNING: pip is being invoked by an old script wrapper. This will fail in a future version of pip.\n",
      "Please see https://github.com/pypa/pip/issues/5599 for advice on fixing the underlying issue.\n",
      "To avoid this problem you can invoke Python with '-m pip' instead of running pip directly.\n",
      "Defaulting to user installation because normal site-packages is not writeable\n",
      "Requirement already satisfied: kfserving in ./.local/lib/python3.6/site-packages (0.3.0.2)\n",
      "Requirement already satisfied: numpy>=1.17.3 in ./.local/lib/python3.6/site-packages (from kfserving) (1.19.0)\n",
      "Requirement already satisfied: six>=1.10 in /usr/lib/python3/dist-packages (from kfserving) (1.11.0)\n",
      "Requirement already satisfied: python-dateutil>=2.5.3 in /usr/local/lib/python3.6/dist-packages (from kfserving) (2.8.0)\n",
      "Requirement already satisfied: minio>=4.0.9 in ./.local/lib/python3.6/site-packages (from kfserving) (5.0.10)\n",
      "Requirement already satisfied: certifi>=14.05.14 in /usr/local/lib/python3.6/dist-packages (from kfserving) (2019.9.11)\n",
      "Requirement already satisfied: adal>=1.2.2 in ./.local/lib/python3.6/site-packages (from kfserving) (1.2.4)\n",
      "Requirement already satisfied: urllib3>=1.15.1 in ./.local/lib/python3.6/site-packages (from kfserving) (1.24.2)\n",
      "Requirement already satisfied: table-logger>=0.3.5 in ./.local/lib/python3.6/site-packages (from kfserving) (0.3.6)\n",
      "Requirement already satisfied: tornado>=1.4.1 in ./.local/lib/python3.6/site-packages (from kfserving) (6.0.4)\n",
      "Requirement already satisfied: kubernetes==10.0.1 in /usr/local/lib/python3.6/dist-packages (from kfserving) (10.0.1)\n",
      "Requirement already satisfied: azure-storage-blob<=2.1.0,>=1.3.0 in ./.local/lib/python3.6/site-packages (from kfserving) (2.1.0)\n"
     ]
    },
    {
     "name": "stdout",
     "output_type": "stream",
     "text": [
      "Requirement already satisfied: argparse>=1.4.0 in ./.local/lib/python3.6/site-packages (from kfserving) (1.4.0)\n",
      "Requirement already satisfied: setuptools>=21.0.0 in /usr/local/lib/python3.6/dist-packages (from kfserving) (41.0.1)\n",
      "Requirement already satisfied: google-cloud-storage>=1.16.0 in /usr/local/lib/python3.6/dist-packages (from kfserving) (1.20.0)\n",
      "Requirement already satisfied: configparser in ./.local/lib/python3.6/site-packages (from minio>=4.0.9->kfserving) (5.0.0)\n",
      "Requirement already satisfied: pytz in /usr/local/lib/python3.6/dist-packages (from minio>=4.0.9->kfserving) (2019.2)\n",
      "Requirement already satisfied: requests>=2.0.0 in /usr/local/lib/python3.6/dist-packages (from adal>=1.2.2->kfserving) (2.22.0)\n",
      "Requirement already satisfied: cryptography>=1.1.0 in /usr/local/lib/python3.6/dist-packages (from adal>=1.2.2->kfserving) (2.7)\n",
      "Requirement already satisfied: PyJWT>=1.0.0 in /usr/local/lib/python3.6/dist-packages (from adal>=1.2.2->kfserving) (1.7.1)\n",
      "Requirement already satisfied: requests-oauthlib in /usr/local/lib/python3.6/dist-packages (from kubernetes==10.0.1->kfserving) (1.2.0)\n",
      "Requirement already satisfied: websocket-client!=0.40.0,!=0.41.*,!=0.42.*,>=0.32.0 in /usr/local/lib/python3.6/dist-packages (from kubernetes==10.0.1->kfserving) (0.56.0)\n",
      "Requirement already satisfied: google-auth>=1.0.1 in /usr/local/lib/python3.6/dist-packages (from kubernetes==10.0.1->kfserving) (1.6.3)\n",
      "Requirement already satisfied: pyyaml>=3.12 in /usr/local/lib/python3.6/dist-packages (from kubernetes==10.0.1->kfserving) (5.1.2)\n",
      "Requirement already satisfied: azure-common>=1.1.5 in ./.local/lib/python3.6/site-packages (from azure-storage-blob<=2.1.0,>=1.3.0->kfserving) (1.1.25)\n",
      "Requirement already satisfied: azure-storage-common~=2.1 in ./.local/lib/python3.6/site-packages (from azure-storage-blob<=2.1.0,>=1.3.0->kfserving) (2.1.0)\n",
      "Requirement already satisfied: google-cloud-core<2.0dev,>=1.0.3 in ./.local/lib/python3.6/site-packages (from google-cloud-storage>=1.16.0->kfserving) (1.3.0)\n",
      "Requirement already satisfied: google-resumable-media!=0.4.0,<0.5dev,>=0.3.1 in /usr/local/lib/python3.6/dist-packages (from google-cloud-storage>=1.16.0->kfserving) (0.4.1)\n",
      "Requirement already satisfied: idna<2.9,>=2.5 in /usr/lib/python3/dist-packages (from requests>=2.0.0->adal>=1.2.2->kfserving) (2.6)\n",
      "Requirement already satisfied: chardet<3.1.0,>=3.0.2 in /usr/local/lib/python3.6/dist-packages (from requests>=2.0.0->adal>=1.2.2->kfserving) (3.0.4)\n",
      "Requirement already satisfied: cffi!=1.11.3,>=1.8 in /usr/local/lib/python3.6/dist-packages (from cryptography>=1.1.0->adal>=1.2.2->kfserving) (1.12.3)\n",
      "Requirement already satisfied: asn1crypto>=0.21.0 in /usr/lib/python3/dist-packages (from cryptography>=1.1.0->adal>=1.2.2->kfserving) (0.24.0)\n",
      "Requirement already satisfied: oauthlib>=3.0.0 in /usr/local/lib/python3.6/dist-packages (from requests-oauthlib->kubernetes==10.0.1->kfserving) (3.1.0)\n",
      "Requirement already satisfied: cachetools>=2.0.0 in /usr/local/lib/python3.6/dist-packages (from google-auth>=1.0.1->kubernetes==10.0.1->kfserving) (3.1.1)\n",
      "Requirement already satisfied: pyasn1-modules>=0.2.1 in /usr/local/lib/python3.6/dist-packages (from google-auth>=1.0.1->kubernetes==10.0.1->kfserving) (0.2.6)\n",
      "Requirement already satisfied: rsa>=3.1.4 in /usr/local/lib/python3.6/dist-packages (from google-auth>=1.0.1->kubernetes==10.0.1->kfserving) (4.0)\n",
      "Requirement already satisfied: google-api-core<2.0.0dev,>=1.16.0 in ./.local/lib/python3.6/site-packages (from google-cloud-core<2.0dev,>=1.0.3->google-cloud-storage>=1.16.0->kfserving) (1.21.0)\n",
      "Requirement already satisfied: pycparser in /usr/local/lib/python3.6/dist-packages (from cffi!=1.11.3,>=1.8->cryptography>=1.1.0->adal>=1.2.2->kfserving) (2.19)\n",
      "Requirement already satisfied: pyasn1<0.5.0,>=0.4.6 in /usr/local/lib/python3.6/dist-packages (from pyasn1-modules>=0.2.1->google-auth>=1.0.1->kubernetes==10.0.1->kfserving) (0.4.7)\n",
      "Requirement already satisfied: googleapis-common-protos<2.0dev,>=1.6.0 in /usr/local/lib/python3.6/dist-packages (from google-api-core<2.0.0dev,>=1.16.0->google-cloud-core<2.0dev,>=1.0.3->google-cloud-storage>=1.16.0->kfserving) (1.6.0)\n",
      "Requirement already satisfied: protobuf>=3.12.0 in ./.local/lib/python3.6/site-packages (from google-api-core<2.0.0dev,>=1.16.0->google-cloud-core<2.0dev,>=1.0.3->google-cloud-storage>=1.16.0->kfserving) (3.12.2)\n"
     ]
    }
   ],
   "source": [
    "!pip install kubeflow-metadata --user\n",
    "!pip install pandas --user\n",
    "!pip install tornado>=6.0.3 --user\n",
    "!pip install kubeflow-fairing --user\n",
    "!pip install scikit-learn --user\n",
    "!pip install kfserving"
   ]
  },
  {
   "cell_type": "code",
   "execution_count": 15,
   "metadata": {},
   "outputs": [
    {
     "name": "stdout",
     "output_type": "stream",
     "text": [
      "NAME         READY   STATUS    RESTARTS   AGE\r\n",
      "example2-0   2/2     Running   0          13m\r\n"
     ]
    }
   ],
   "source": [
    "!kubectl get pods"
   ]
  },
  {
   "cell_type": "code",
   "execution_count": null,
   "metadata": {},
   "outputs": [],
   "source": [
    "import pandas\n",
    "from kubeflow.metadata import metadata\n",
    "from datetime import datetime\n",
    "from uuid import uuid4\n",
    "import logging\n",
    "from google.cloud import storage"
   ]
  },
  {
   "cell_type": "code",
   "execution_count": null,
   "metadata": {},
   "outputs": [],
   "source": [
    "import google.cloud as gcloud\n",
    "dir(gcloud)"
   ]
  },
  {
   "cell_type": "code",
   "execution_count": null,
   "metadata": {},
   "outputs": [],
   "source": [
    "METADATA_STORE_HOST = \"metadata-grpc-service.kubeflow\" # default DNS of Kubeflow Metadata gRPC serivce.\n",
    "METADATA_STORE_PORT = 8080"
   ]
  },
  {
   "cell_type": "markdown",
   "metadata": {},
   "source": [
    "## Create a workspace"
   ]
  },
  {
   "cell_type": "code",
   "execution_count": null,
   "metadata": {},
   "outputs": [],
   "source": [
    "ws1 = metadata.Workspace(\n",
    "    # Connect to metadata service in namespace kubeflow in k8s cluster.\n",
    "    store=metadata.Store(grpc_host=METADATA_STORE_HOST, grpc_port=METADATA_STORE_PORT),\n",
    "    name=\"workspace_1\",\n",
    "    description=\"a workspace for testing\",\n",
    "    labels={\"n1\": \"v1\"})\n",
    "pandas.DataFrame.from_dict(ws1.list())"
   ]
  },
  {
   "cell_type": "code",
   "execution_count": null,
   "metadata": {},
   "outputs": [],
   "source": [
    "storage_client = storage.Client()\n",
    "bucket_name = 'mlops-282422-kubeflowpipelines-default'\n",
    "model_path = 'mockup-model.dat'\n",
    "model_file = joblib.load(model_path)\n",
    "model_bucket = storage_client.get_bucket(bucket_name)\n",
    "model_blob = model_bucket.blob(model_path)\n",
    "model_blob.upload_from_filename(model_path)"
   ]
  },
  {
   "cell_type": "code",
   "execution_count": 22,
   "metadata": {},
   "outputs": [
    {
     "name": "stdout",
     "output_type": "stream",
     "text": [
      "NAME                                 READY   STATUS      RESTARTS   AGE    IP            NODE                                                  NOMINATED NODE   READINESS GATES\r\n",
      "example2-0                           2/2     Running     0          135m   10.60.0.81    gke-kubeflow-dev-kubeflow-dev-cpu-poo-747b81cc-pk7s   <none>           <none>\r\n",
      "fairing-builder-4cn2b-jswbs          0/1     Completed   0          90m    10.60.1.102   gke-kubeflow-dev-kubeflow-dev-cpu-poo-747b81cc-qp4l   <none>           <none>\r\n",
      "fairing-builder-mq7qg-c2jgz          0/1     Completed   0          73m    10.60.1.103   gke-kubeflow-dev-kubeflow-dev-cpu-poo-747b81cc-qp4l   <none>           <none>\r\n",
      "mnist-model-c54dbf959-drxl2          1/1     Running     0          38s    10.60.0.89    gke-kubeflow-dev-kubeflow-dev-cpu-poo-747b81cc-pk7s   <none>           <none>\r\n",
      "mnist-tensorboard-68fc7f4d89-4kr9f   2/2     Running     0          53m    10.60.1.110   gke-kubeflow-dev-kubeflow-dev-cpu-poo-747b81cc-qp4l   <none>           <none>\r\n",
      "mnist-train-6336-chief-0             0/1     Completed   0          56m    10.60.1.105   gke-kubeflow-dev-kubeflow-dev-cpu-poo-747b81cc-qp4l   <none>           <none>\r\n",
      "mnist-train-6336-worker-0            0/1     Completed   0          56m    10.60.1.107   gke-kubeflow-dev-kubeflow-dev-cpu-poo-747b81cc-qp4l   <none>           <none>\r\n"
     ]
    }
   ],
   "source": [
    "!kubectl get pods -o wide"
   ]
  },
  {
   "cell_type": "code",
   "execution_count": null,
   "metadata": {},
   "outputs": [],
   "source": [
    "model_bucket.get_blob('mockup-model.dat')#.download_to_filename('model.dat')\n",
    "joblib.load('model.dat')"
   ]
  },
  {
   "cell_type": "code",
   "execution_count": null,
   "metadata": {},
   "outputs": [],
   "source": [
    "for i in model_bucket.list_blobs(): print(i.name)"
   ]
  },
  {
   "cell_type": "code",
   "execution_count": null,
   "metadata": {},
   "outputs": [],
   "source": [
    "# fairing:include-cell\n",
    "from sklearn.datasets import make_regression\n",
    "from sklearn.model_selection import train_test_split\n",
    "from sklearn.impute import SimpleImputer\n",
    "\n",
    "def read_synthetic_input(test_size=0.25):\n",
    "    \"\"\"generate synthetic data and split it into train and test.\"\"\"\n",
    "    # generate regression dataset\n",
    "    X, y = make_regression(n_samples=200, n_features=5, noise=0.1)\n",
    "    train_X, test_X, train_y, test_y = train_test_split(X,\n",
    "                                                      y,\n",
    "                                                      test_size=test_size,\n",
    "                                                      shuffle=False)\n",
    "\n",
    "    imputer = SimpleImputer()\n",
    "    train_X = imputer.fit_transform(train_X)\n",
    "    test_X = imputer.transform(test_X)\n",
    "\n",
    "    return (train_X, train_y), (test_X, test_y)\n"
   ]
  },
  {
   "cell_type": "code",
   "execution_count": null,
   "metadata": {},
   "outputs": [],
   "source": [
    "from sklearn.base import BaseEstimator\n",
    "import joblib\n",
    "import os\n",
    "from sklearn.tree import DecisionTreeRegressor\n",
    "from sklearn.metrics import mean_absolute_error\n",
    "\n",
    "class PersistenteModel:\n",
    "    def __init__(self,  workspace, model_file=None):\n",
    "        if not model_file:\n",
    "            if \"MODEL_FILE\" in os.environ:\n",
    "                print(\"model_file not supplied; checking environment variable\")\n",
    "                model_file = os.getenv(\"MODEL_FILE\")\n",
    "            else:\n",
    "                print(\"model_file not supplied; using the default\")\n",
    "                model_file = \"mockup-model.dat\"\n",
    "        self.__model_file = model_file\n",
    "        print(\"model_file={0}\".format(self.__model_file))\n",
    "        self.__workspace = workspace\n",
    "        self.exec = self.create_execution()\n",
    "    \n",
    "    @property\n",
    "    def model_file(self):\n",
    "        return self.__model_file\n",
    "    \n",
    "    @property\n",
    "    def workspace(self):\n",
    "        return self.__workspace\n",
    "\n",
    "    def create_execution(self):\n",
    "        pass\n",
    "\n",
    "    def _save_model(self, model):\n",
    "        \"\"\"Save model for serving.\"\"\"\n",
    "        joblib.dump(model, self.__model_file)\n",
    "        logging.info(\"Model export success: %s\", self.__model_file)\n",
    "        \n",
    "    def _load_model(self):\n",
    "        print('Loading model from {}'.format(self.__model_file))\n",
    "        return joblib.load(self.__model_file)\n",
    "        \n",
    "    def create_execution(self):                \n",
    "        r = metadata.Run(\n",
    "            workspace=self.workspace,\n",
    "            name=\"example-synthetic-faring-run\" + datetime.utcnow().isoformat(\"T\"),\n",
    "            description=\"a notebook run\")\n",
    "\n",
    "        return metadata.Execution(\n",
    "            name = \"execution\" + datetime.utcnow().isoformat(\"T\"),\n",
    "            workspace=self.workspace,\n",
    "            run=r,\n",
    "            description=\"execution for training example-synthetic\")\n",
    "\n",
    "\n",
    "class DecisionTreeModel(BaseEstimator, PersistenteModel):\n",
    "    \n",
    "    def __init__(self, workspace, model_file=None):\n",
    "        super().__init__(workspace=workspace, model_file=model_file)\n",
    "        self.model = None\n",
    "    \n",
    "    def fit(self, X, y):\n",
    "        self.model = DecisionTreeRegressor().fit(X, y)\n",
    "        self._save_model(self.model)\n",
    "        \"\"\"\n",
    "        self.exec.log_output(metadata.Model(\n",
    "            name=\"example-model\",\n",
    "            description=\"Model using synthetic data\",\n",
    "            owner=\"veragua.alb@gmail.com\",\n",
    "            uri=self.model_file,\n",
    "            model_type=\"decisionTree_regression\",\n",
    "            training_framework={\n",
    "                \"name\": \"decisionTree\",\n",
    "                \"version\": \"0.0.1\"\n",
    "            },\n",
    "            hyperparameters={},\n",
    "            version=datetime.utcnow().isoformat(\"T\")))\n",
    "        \"\"\"\n",
    "        return self\n",
    "    \n",
    "    def pred_eval(self, X, y):\n",
    "        y_pred = self.predict(X)\n",
    "        print(mean_absolute_error(y_pred, y))\n",
    "        return y_pred\n",
    "\n",
    "    def predict(self, X):\n",
    "        if not self.model:\n",
    "            self.model = self._load_model()\n",
    "        return self.model.predict(X)\n",
    "\n",
    "\n",
    "(train_X, train_y), (test_X, test_y) = read_synthetic_input()\n",
    "model = DecisionTreeModel(ws1).fit(train_X, train_y)"
   ]
  },
  {
   "cell_type": "code",
   "execution_count": null,
   "metadata": {},
   "outputs": [],
   "source": [
    "from kubeflow.fairing import constants\n",
    "constants.constants.KANIKO_IMAGE = \"gcr.io/kaniko-project/executor:v0.14.0\""
   ]
  },
  {
   "cell_type": "code",
   "execution_count": null,
   "metadata": {},
   "outputs": [],
   "source": [
    "def load_model(model_path):\n",
    "  local_model_path = model_path\n",
    "  if model_path.startswith(\"gs://\"):\n",
    "    gcs_path = model_path\n",
    "    train_bucket_name, train_path = split_gcs_uri(gcs_path)\n",
    "\n",
    "    storage_client = storage.Client()\n",
    "    train_bucket = storage_client.get_bucket(train_bucket_name)\n",
    "    train_blob = train_bucket.blob(train_path)\n",
    "\n",
    "    local_model_path = \"/tmp/model.dat\"\n",
    "    logging.info(\"Downloading model to %s\", local_model_path)\n",
    "    train_blob.download_to_filename(local_model_path)\n",
    "\n",
    "  model = joblib.load(local_model_path)\n",
    "  return model\n",
    "load_model('gcs://my-bucket/mnist')"
   ]
  },
  {
   "cell_type": "code",
   "execution_count": null,
   "metadata": {},
   "outputs": [],
   "source": []
  },
  {
   "cell_type": "code",
   "execution_count": null,
   "metadata": {},
   "outputs": [],
   "source": []
  },
  {
   "cell_type": "code",
   "execution_count": null,
   "metadata": {},
   "outputs": [],
   "source": []
  },
  {
   "cell_type": "code",
   "execution_count": null,
   "metadata": {},
   "outputs": [],
   "source": []
  },
  {
   "cell_type": "code",
   "execution_count": null,
   "metadata": {},
   "outputs": [],
   "source": []
  },
  {
   "cell_type": "markdown",
   "metadata": {},
   "source": [
    "## Create a run in a workspace\n"
   ]
  },
  {
   "cell_type": "code",
   "execution_count": null,
   "metadata": {},
   "outputs": [],
   "source": [
    "r = metadata.Run(\n",
    "    workspace=ws1,\n",
    "    name=\"run-\" + datetime.utcnow().isoformat(\"T\") ,\n",
    "    description=\"a run in ws_1\",\n",
    ")"
   ]
  },
  {
   "cell_type": "markdown",
   "metadata": {},
   "source": [
    "## Create an execution in a run"
   ]
  },
  {
   "cell_type": "code",
   "execution_count": null,
   "metadata": {},
   "outputs": [],
   "source": [
    "exec = metadata.Execution(\n",
    "    name = \"execution\" + datetime.utcnow().isoformat(\"T\") ,\n",
    "    workspace=ws1,\n",
    "    run=r,\n",
    "    description=\"execution example\",\n",
    ")\n",
    "print(\"An execution was created with id %s\" % exec.id)\n"
   ]
  },
  {
   "cell_type": "markdown",
   "metadata": {},
   "source": [
    "## Log a data set"
   ]
  },
  {
   "cell_type": "code",
   "execution_count": null,
   "metadata": {},
   "outputs": [],
   "source": [
    "date_set_version = \"data_set_version_\" + str(uuid4())\n",
    "data_set = exec.log_input(\n",
    "        metadata.DataSet(\n",
    "            description=\"an example data\",\n",
    "            name=\"mytable-dump\",\n",
    "            owner=\"owner@my-company.org\",\n",
    "            uri=\"file://path/to/dataset\",\n",
    "            version=date_set_version,\n",
    "            query=\"SELECT * FROM mytable\"))\n",
    "print(\"Data set id is {0.id} with version '{0.version}'\".format(data_set))"
   ]
  },
  {
   "cell_type": "markdown",
   "metadata": {},
   "source": [
    "## Log a model"
   ]
  },
  {
   "cell_type": "code",
   "execution_count": null,
   "metadata": {},
   "outputs": [],
   "source": [
    "model_version = \"model_version_\" + str(uuid4())\n",
    "model = exec.log_output(\n",
    "    metadata.Model(\n",
    "            name=\"MNIST\",\n",
    "            description=\"model to recognize handwritten digits\",\n",
    "            owner=\"someone@kubeflow.org\",\n",
    "            uri=\"gcs://my-bucket/mnist\",\n",
    "            model_type=\"neural network\",\n",
    "            training_framework={\n",
    "                \"name\": \"tensorflow\",\n",
    "                \"version\": \"v1.0\"\n",
    "            },\n",
    "            hyperparameters={\n",
    "                \"learning_rate\": 0.5,\n",
    "                \"layers\": [10, 3, 1],\n",
    "                \"early_stop\": True\n",
    "            },\n",
    "            version=model_version,\n",
    "            labels={\"mylabel\": \"l1\"}))\n",
    "print(model)\n",
    "print(\"\\nModel id is {0.id} and version is {0.version}\".format(model))\n"
   ]
  },
  {
   "cell_type": "markdown",
   "metadata": {},
   "source": [
    "## Log the evaluation of a model"
   ]
  },
  {
   "cell_type": "code",
   "execution_count": null,
   "metadata": {},
   "outputs": [],
   "source": [
    "metrics = exec.log_output(\n",
    "    metadata.Metrics(\n",
    "            name=\"MNIST-evaluation\",\n",
    "            description=\"validating the MNIST model to recognize handwritten digits\",\n",
    "            owner=\"someone@kubeflow.org\",\n",
    "            uri=\"gcs://my-bucket/mnist-eval.csv\",\n",
    "            data_set_id=str(data_set.id),\n",
    "            model_id=str(model.id),\n",
    "            metrics_type=metadata.Metrics.VALIDATION,\n",
    "            values={\"accuracy\": 0.95},\n",
    "            labels={\"mylabel\": \"l1\"}))\n",
    "print(\"Metrics id is %s\" % metrics.id)"
   ]
  },
  {
   "cell_type": "markdown",
   "metadata": {},
   "source": [
    "## Add Metadata for serving the model"
   ]
  },
  {
   "cell_type": "code",
   "execution_count": null,
   "metadata": {},
   "outputs": [],
   "source": [
    "serving_application = metadata.Execution(\n",
    "    name=\"serving model\",\n",
    "    workspace=ws1,\n",
    "    description=\"an execution to represent model serving component\",\n",
    ")\n",
    "# Noticed we use model name, version, uri to uniquely identify existing model.\n",
    "served_model = metadata.Model(\n",
    "    name=\"MNIST\",\n",
    "    uri=\"gcs://my-bucket/mnist\",\n",
    "    version=model.version,\n",
    ")\n",
    "m=serving_application.log_input(served_model)\n",
    "print(\"Found the mode with id {0.id} and version '{0.version}'.\".format(m))"
   ]
  },
  {
   "cell_type": "markdown",
   "metadata": {},
   "source": [
    "## List all models in the workspace"
   ]
  },
  {
   "cell_type": "code",
   "execution_count": null,
   "metadata": {},
   "outputs": [],
   "source": []
  },
  {
   "cell_type": "markdown",
   "metadata": {},
   "source": [
    "## Basic Lineage Tracking"
   ]
  },
  {
   "cell_type": "code",
   "execution_count": null,
   "metadata": {},
   "outputs": [],
   "source": [
    "print(\"Model id is %s\\n\" % model.id)\n",
    "    \n",
    "model_events = ws1.store.get_events_by_artifact_ids([model.id])\n",
    "\n",
    "execution_ids = set(e.execution_id for e in model_events)\n",
    "print(\"All executions related to the model are {}\".format(execution_ids))\n",
    "# assert execution_ids == set([serving_application.id, exec.id])\n",
    "\n",
    "trainer_events = ws1.store.get_events_by_execution_ids([exec.id])\n",
    "artifact_ids = set(e.artifact_id for e in trainer_events)\n",
    "print(\"All artifacts related to the training event are {}\".format(artifact_ids))# assert artifact_ids == set([model.id, metrics.id, data_set.id])"
   ]
  },
  {
   "cell_type": "markdown",
   "metadata": {},
   "source": [
    "# Tensorflow tutorial"
   ]
  },
  {
   "cell_type": "markdown",
   "metadata": {},
   "source": [
    "1. Before executions can be recorded, ArtifactTypes have to be registered."
   ]
  },
  {
   "cell_type": "code",
   "execution_count": null,
   "metadata": {},
   "outputs": [],
   "source": [
    "from ml_metadata import metadata_store\n",
    "# from ml_metadata.proto import metadata_store_pb2\n",
    "store = ws1.store\n",
    "metadata_store_pb2 = metadata.mlpb"
   ]
  },
  {
   "cell_type": "code",
   "execution_count": null,
   "metadata": {},
   "outputs": [],
   "source": [
    "# Create ArtifactTypes, e.g., Data and Model\n",
    "data_type = metadata_store_pb2.ArtifactType()\n",
    "data_type.name = \"DataSet\"\n",
    "data_type.properties[\"day\"] = metadata_store_pb2.INT\n",
    "data_type.properties[\"split\"] = metadata_store_pb2.STRING\n",
    "data_type_id = store.put_artifact_type(data_type)\n",
    "data_type"
   ]
  },
  {
   "cell_type": "code",
   "execution_count": null,
   "metadata": {},
   "outputs": [],
   "source": [
    "model_type = metadata_store_pb2.ArtifactType()\n",
    "model_type.name = \"SavedModel\"\n",
    "model_type.properties[\"version\"] = metadata_store_pb2.INT\n",
    "model_type.properties[\"name\"] = metadata_store_pb2.STRING\n",
    "model_type_id = store.put_artifact_type(model_type)\n",
    "model_type"
   ]
  },
  {
   "cell_type": "markdown",
   "metadata": {},
   "source": [
    "2. Before executions can be recorded, ExecutionTypes have to be registered for all steps in our ML workflow."
   ]
  },
  {
   "cell_type": "code",
   "execution_count": null,
   "metadata": {},
   "outputs": [],
   "source": [
    "# Create ExecutionType, e.g., Trainer\n",
    "trainer_type = metadata_store_pb2.ExecutionType()\n",
    "trainer_type.name = \"Trainer\"\n",
    "trainer_type.properties[\"state\"] = metadata_store_pb2.STRING\n",
    "trainer_type_id = store.put_execution_type(trainer_type)\n",
    "trainer_type"
   ]
  },
  {
   "cell_type": "markdown",
   "metadata": {},
   "source": [
    "3. Once types are registered, we create a DataSet Artifact."
   ]
  },
  {
   "cell_type": "code",
   "execution_count": null,
   "metadata": {},
   "outputs": [],
   "source": [
    "# Declare input artifact of type DataSet\n",
    "data_artifact = metadata_store_pb2.Artifact()\n",
    "data_artifact.uri = 'path/to/data'\n",
    "data_artifact.properties[\"day\"].int_value = 1\n",
    "data_artifact.properties[\"split\"].string_value = 'train'\n",
    "data_artifact.type_id = data_type_id\n",
    "data_artifact_id = store.put_artifacts([data_artifact])[0]\n",
    "data_artifact"
   ]
  },
  {
   "cell_type": "markdown",
   "metadata": {},
   "source": [
    "4. With the DataSet Artifact created, we can create the Execution for a Trainer run"
   ]
  },
  {
   "cell_type": "markdown",
   "metadata": {},
   "source": [
    "## Miscelanuous"
   ]
  },
  {
   "cell_type": "code",
   "execution_count": null,
   "metadata": {},
   "outputs": [],
   "source": [
    "import os\n",
    "from oauth2client.client import GoogleCredentials\n",
    "credentials = GoogleCredentials.get_application_default()"
   ]
  },
  {
   "cell_type": "code",
   "execution_count": null,
   "metadata": {},
   "outputs": [],
   "source": []
  },
  {
   "cell_type": "code",
   "execution_count": null,
   "metadata": {},
   "outputs": [],
   "source": []
  },
  {
   "cell_type": "code",
   "execution_count": null,
   "metadata": {},
   "outputs": [],
   "source": [
    "model.pred_eval(test_X, test_y)"
   ]
  },
  {
   "cell_type": "code",
   "execution_count": null,
   "metadata": {},
   "outputs": [],
   "source": [
    "from kubeflow import fairing   \n",
    "from kubeflow.fairing.builders import append\n",
    "from kubeflow.fairing.deployers import job\n",
    "from kubeflow.fairing.preprocessors.converted_notebook import ConvertNotebookPreprocessorWithFire\n",
    "GCP_PROJECT = fairing.cloud.gcp.guess_project_name()\n",
    "DOCKER_REGISTRY = 'gcr.io/{}/fairing-job'.format(GCP_PROJECT)\n",
    "DOCKER_REGISTRY"
   ]
  },
  {
   "cell_type": "code",
   "execution_count": null,
   "metadata": {},
   "outputs": [],
   "source": [
    "dir(kubeflow)"
   ]
  },
  {
   "cell_type": "code",
   "execution_count": null,
   "metadata": {},
   "outputs": [],
   "source": []
  },
  {
   "cell_type": "code",
   "execution_count": null,
   "metadata": {},
   "outputs": [],
   "source": [
    "!kubectl get jobs"
   ]
  },
  {
   "cell_type": "code",
   "execution_count": null,
   "metadata": {},
   "outputs": [],
   "source": [
    "from tensorflow.examples.tutorials.mnist import input_data\n",
    "mnist = input_data.read_data_sets(\"MNIST_data/\", one_hot=True)\n",
    "\n",
    "import tensorflow as tf\n",
    "\n",
    "x = tf.placeholder(tf.float32, [None, 784])\n",
    "\n",
    "W = tf.Variable(tf.zeros([784, 10]))\n",
    "b = tf.Variable(tf.zeros([10]))\n",
    "\n",
    "y = tf.nn.softmax(tf.matmul(x, W) + b)\n",
    "\n",
    "y_ = tf.placeholder(tf.float32, [None, 10])\n",
    "cross_entropy = tf.reduce_mean(-tf.reduce_sum(y_ * tf.log(y), reduction_indices=[1]))\n",
    "\n",
    "train_step = tf.train.GradientDescentOptimizer(0.05).minimize(cross_entropy)\n",
    "\n",
    "sess = tf.InteractiveSession()\n",
    "tf.global_variables_initializer().run()\n",
    "\n",
    "for _ in range(1000):\n",
    "  batch_xs, batch_ys = mnlist.train.next_batch(100)\n",
    "  sess.run(train_step, feed_dict={x: batch_xs, y_: batch_ys})\n",
    "\n",
    "correct_prediction = tf.equal(tf.argmax(y,1), tf.argmax(y_,1))\n",
    "accuracy = tf.reduce_mean(tf.cast(correct_prediction, tf.float32))\n",
    "print(\"Accuracy: \", sess.run(accuracy, feed_dict={x: mnist.test.images, y_: mnist.test.labels}))"
   ]
  }
 ],
 "metadata": {
  "kernelspec": {
   "display_name": "Python 3",
   "language": "python",
   "name": "python3"
  },
  "language_info": {
   "codemirror_mode": {
    "name": "ipython",
    "version": 3
   },
   "file_extension": ".py",
   "mimetype": "text/x-python",
   "name": "python",
   "nbconvert_exporter": "python",
   "pygments_lexer": "ipython3",
   "version": "3.6.8"
  }
 },
 "nbformat": 4,
 "nbformat_minor": 2
}
